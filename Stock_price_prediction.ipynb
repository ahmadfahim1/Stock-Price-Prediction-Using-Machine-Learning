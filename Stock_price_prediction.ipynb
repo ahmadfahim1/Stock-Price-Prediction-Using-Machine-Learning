{
  "nbformat": 4,
  "nbformat_minor": 0,
  "metadata": {
    "colab": {
      "name": "Stock_price_prediction.ipynb",
      "provenance": [],
      "collapsed_sections": [],
      "mount_file_id": "1D2qXJIax8Y3KauAX7XK902mS7hP3lAaz",
      "authorship_tag": "ABX9TyOopFcGjy+P1gSOX1n8rSg5"
    },
    "kernelspec": {
      "name": "python3",
      "display_name": "Python 3"
    },
    "language_info": {
      "name": "python"
    }
  },
  "cells": [
    {
      "cell_type": "code",
      "execution_count": null,
      "metadata": {
        "id": "jYai8wD3sRaL"
      },
      "outputs": [],
      "source": [
        "import pandas as pd\n",
        "import numpy as np\n",
        "import matplotlib.pyplot as plt\n",
        "from sklearn import metrics"
      ]
    },
    {
      "cell_type": "code",
      "source": [
        "df = pd.read_csv(\"/content/drive/MyDrive/Stock price prediction/stock_data.csv\")"
      ],
      "metadata": {
        "id": "MBg7KacLtOT8"
      },
      "execution_count": null,
      "outputs": []
    },
    {
      "cell_type": "code",
      "source": [
        "df.head()"
      ],
      "metadata": {
        "colab": {
          "base_uri": "https://localhost:8080/",
          "height": 206
        },
        "id": "fo8tsNaats0a",
        "outputId": "73801607-f2e2-4f43-f172-2cc18ce29c39"
      },
      "execution_count": null,
      "outputs": [
        {
          "output_type": "execute_result",
          "data": {
            "text/plain": [
              "   index        DATE TRADINGCODE  LTP*  HIGH  LOW  OPENP*  CLOSEP*  YCP TRADE  \\\n",
              "0      0  2020-12-01   1JANATAMF   6.1   6.3  6.1     6.2      6.1  6.2   304   \n",
              "1      1  2020-11-30   1JANATAMF   6.2   6.5  6.1     6.5      6.2  6.4   539   \n",
              "2      2  2020-11-29   1JANATAMF   6.4   6.7  6.3     6.5      6.4  6.5   453   \n",
              "3      3  2020-11-26   1JANATAMF   6.5   6.7  6.3     6.5      6.5  6.3   497   \n",
              "4      4  2020-11-25   1JANATAMF   6.3   6.7  6.2     6.7      6.3  6.6   576   \n",
              "\n",
              "   VALUE(mn)     VOLUME  \n",
              "0      9.311  1,503,031  \n",
              "1     16.332  2,617,333  \n",
              "2     19.140  2,953,085  \n",
              "3     22.492  3,467,374  \n",
              "4     26.917  4,201,219  "
            ],
            "text/html": [
              "\n",
              "  <div id=\"df-e7bfd093-81cd-4f12-8109-2bbdbaa8d7ec\">\n",
              "    <div class=\"colab-df-container\">\n",
              "      <div>\n",
              "<style scoped>\n",
              "    .dataframe tbody tr th:only-of-type {\n",
              "        vertical-align: middle;\n",
              "    }\n",
              "\n",
              "    .dataframe tbody tr th {\n",
              "        vertical-align: top;\n",
              "    }\n",
              "\n",
              "    .dataframe thead th {\n",
              "        text-align: right;\n",
              "    }\n",
              "</style>\n",
              "<table border=\"1\" class=\"dataframe\">\n",
              "  <thead>\n",
              "    <tr style=\"text-align: right;\">\n",
              "      <th></th>\n",
              "      <th>index</th>\n",
              "      <th>DATE</th>\n",
              "      <th>TRADINGCODE</th>\n",
              "      <th>LTP*</th>\n",
              "      <th>HIGH</th>\n",
              "      <th>LOW</th>\n",
              "      <th>OPENP*</th>\n",
              "      <th>CLOSEP*</th>\n",
              "      <th>YCP</th>\n",
              "      <th>TRADE</th>\n",
              "      <th>VALUE(mn)</th>\n",
              "      <th>VOLUME</th>\n",
              "    </tr>\n",
              "  </thead>\n",
              "  <tbody>\n",
              "    <tr>\n",
              "      <th>0</th>\n",
              "      <td>0</td>\n",
              "      <td>2020-12-01</td>\n",
              "      <td>1JANATAMF</td>\n",
              "      <td>6.1</td>\n",
              "      <td>6.3</td>\n",
              "      <td>6.1</td>\n",
              "      <td>6.2</td>\n",
              "      <td>6.1</td>\n",
              "      <td>6.2</td>\n",
              "      <td>304</td>\n",
              "      <td>9.311</td>\n",
              "      <td>1,503,031</td>\n",
              "    </tr>\n",
              "    <tr>\n",
              "      <th>1</th>\n",
              "      <td>1</td>\n",
              "      <td>2020-11-30</td>\n",
              "      <td>1JANATAMF</td>\n",
              "      <td>6.2</td>\n",
              "      <td>6.5</td>\n",
              "      <td>6.1</td>\n",
              "      <td>6.5</td>\n",
              "      <td>6.2</td>\n",
              "      <td>6.4</td>\n",
              "      <td>539</td>\n",
              "      <td>16.332</td>\n",
              "      <td>2,617,333</td>\n",
              "    </tr>\n",
              "    <tr>\n",
              "      <th>2</th>\n",
              "      <td>2</td>\n",
              "      <td>2020-11-29</td>\n",
              "      <td>1JANATAMF</td>\n",
              "      <td>6.4</td>\n",
              "      <td>6.7</td>\n",
              "      <td>6.3</td>\n",
              "      <td>6.5</td>\n",
              "      <td>6.4</td>\n",
              "      <td>6.5</td>\n",
              "      <td>453</td>\n",
              "      <td>19.140</td>\n",
              "      <td>2,953,085</td>\n",
              "    </tr>\n",
              "    <tr>\n",
              "      <th>3</th>\n",
              "      <td>3</td>\n",
              "      <td>2020-11-26</td>\n",
              "      <td>1JANATAMF</td>\n",
              "      <td>6.5</td>\n",
              "      <td>6.7</td>\n",
              "      <td>6.3</td>\n",
              "      <td>6.5</td>\n",
              "      <td>6.5</td>\n",
              "      <td>6.3</td>\n",
              "      <td>497</td>\n",
              "      <td>22.492</td>\n",
              "      <td>3,467,374</td>\n",
              "    </tr>\n",
              "    <tr>\n",
              "      <th>4</th>\n",
              "      <td>4</td>\n",
              "      <td>2020-11-25</td>\n",
              "      <td>1JANATAMF</td>\n",
              "      <td>6.3</td>\n",
              "      <td>6.7</td>\n",
              "      <td>6.2</td>\n",
              "      <td>6.7</td>\n",
              "      <td>6.3</td>\n",
              "      <td>6.6</td>\n",
              "      <td>576</td>\n",
              "      <td>26.917</td>\n",
              "      <td>4,201,219</td>\n",
              "    </tr>\n",
              "  </tbody>\n",
              "</table>\n",
              "</div>\n",
              "      <button class=\"colab-df-convert\" onclick=\"convertToInteractive('df-e7bfd093-81cd-4f12-8109-2bbdbaa8d7ec')\"\n",
              "              title=\"Convert this dataframe to an interactive table.\"\n",
              "              style=\"display:none;\">\n",
              "        \n",
              "  <svg xmlns=\"http://www.w3.org/2000/svg\" height=\"24px\"viewBox=\"0 0 24 24\"\n",
              "       width=\"24px\">\n",
              "    <path d=\"M0 0h24v24H0V0z\" fill=\"none\"/>\n",
              "    <path d=\"M18.56 5.44l.94 2.06.94-2.06 2.06-.94-2.06-.94-.94-2.06-.94 2.06-2.06.94zm-11 1L8.5 8.5l.94-2.06 2.06-.94-2.06-.94L8.5 2.5l-.94 2.06-2.06.94zm10 10l.94 2.06.94-2.06 2.06-.94-2.06-.94-.94-2.06-.94 2.06-2.06.94z\"/><path d=\"M17.41 7.96l-1.37-1.37c-.4-.4-.92-.59-1.43-.59-.52 0-1.04.2-1.43.59L10.3 9.45l-7.72 7.72c-.78.78-.78 2.05 0 2.83L4 21.41c.39.39.9.59 1.41.59.51 0 1.02-.2 1.41-.59l7.78-7.78 2.81-2.81c.8-.78.8-2.07 0-2.86zM5.41 20L4 18.59l7.72-7.72 1.47 1.35L5.41 20z\"/>\n",
              "  </svg>\n",
              "      </button>\n",
              "      \n",
              "  <style>\n",
              "    .colab-df-container {\n",
              "      display:flex;\n",
              "      flex-wrap:wrap;\n",
              "      gap: 12px;\n",
              "    }\n",
              "\n",
              "    .colab-df-convert {\n",
              "      background-color: #E8F0FE;\n",
              "      border: none;\n",
              "      border-radius: 50%;\n",
              "      cursor: pointer;\n",
              "      display: none;\n",
              "      fill: #1967D2;\n",
              "      height: 32px;\n",
              "      padding: 0 0 0 0;\n",
              "      width: 32px;\n",
              "    }\n",
              "\n",
              "    .colab-df-convert:hover {\n",
              "      background-color: #E2EBFA;\n",
              "      box-shadow: 0px 1px 2px rgba(60, 64, 67, 0.3), 0px 1px 3px 1px rgba(60, 64, 67, 0.15);\n",
              "      fill: #174EA6;\n",
              "    }\n",
              "\n",
              "    [theme=dark] .colab-df-convert {\n",
              "      background-color: #3B4455;\n",
              "      fill: #D2E3FC;\n",
              "    }\n",
              "\n",
              "    [theme=dark] .colab-df-convert:hover {\n",
              "      background-color: #434B5C;\n",
              "      box-shadow: 0px 1px 3px 1px rgba(0, 0, 0, 0.15);\n",
              "      filter: drop-shadow(0px 1px 2px rgba(0, 0, 0, 0.3));\n",
              "      fill: #FFFFFF;\n",
              "    }\n",
              "  </style>\n",
              "\n",
              "      <script>\n",
              "        const buttonEl =\n",
              "          document.querySelector('#df-e7bfd093-81cd-4f12-8109-2bbdbaa8d7ec button.colab-df-convert');\n",
              "        buttonEl.style.display =\n",
              "          google.colab.kernel.accessAllowed ? 'block' : 'none';\n",
              "\n",
              "        async function convertToInteractive(key) {\n",
              "          const element = document.querySelector('#df-e7bfd093-81cd-4f12-8109-2bbdbaa8d7ec');\n",
              "          const dataTable =\n",
              "            await google.colab.kernel.invokeFunction('convertToInteractive',\n",
              "                                                     [key], {});\n",
              "          if (!dataTable) return;\n",
              "\n",
              "          const docLinkHtml = 'Like what you see? Visit the ' +\n",
              "            '<a target=\"_blank\" href=https://colab.research.google.com/notebooks/data_table.ipynb>data table notebook</a>'\n",
              "            + ' to learn more about interactive tables.';\n",
              "          element.innerHTML = '';\n",
              "          dataTable['output_type'] = 'display_data';\n",
              "          await google.colab.output.renderOutput(dataTable, element);\n",
              "          const docLink = document.createElement('div');\n",
              "          docLink.innerHTML = docLinkHtml;\n",
              "          element.appendChild(docLink);\n",
              "        }\n",
              "      </script>\n",
              "    </div>\n",
              "  </div>\n",
              "  "
            ]
          },
          "metadata": {},
          "execution_count": 5
        }
      ]
    },
    {
      "cell_type": "code",
      "source": [
        "df['DATE'] = pd.to_datetime(df.DATE)"
      ],
      "metadata": {
        "id": "ze1tB_swuCGM"
      },
      "execution_count": null,
      "outputs": []
    },
    {
      "cell_type": "code",
      "source": [
        "df.info()"
      ],
      "metadata": {
        "colab": {
          "base_uri": "https://localhost:8080/"
        },
        "id": "A0CAXqLn2q8t",
        "outputId": "5b0ed301-4b3f-4fd1-9b6f-9428efeb5a51"
      },
      "execution_count": null,
      "outputs": [
        {
          "output_type": "stream",
          "name": "stdout",
          "text": [
            "<class 'pandas.core.frame.DataFrame'>\n",
            "Int64Index: 2770 entries, 0 to 2769\n",
            "Data columns (total 10 columns):\n",
            " #   Column       Non-Null Count  Dtype         \n",
            "---  ------       --------------  -----         \n",
            " 0   index        2770 non-null   int64         \n",
            " 1   DATE         2770 non-null   datetime64[ns]\n",
            " 2   TRADINGCODE  2770 non-null   object        \n",
            " 3   LTP*         2770 non-null   float64       \n",
            " 4   HIGH         2770 non-null   float64       \n",
            " 5   LOW          2770 non-null   float64       \n",
            " 6   OPENP*       2770 non-null   float64       \n",
            " 7   CLOSEP*      2770 non-null   float64       \n",
            " 8   TRADE        2770 non-null   object        \n",
            " 9   VOLUME       2770 non-null   object        \n",
            "dtypes: datetime64[ns](1), float64(5), int64(1), object(3)\n",
            "memory usage: 238.0+ KB\n"
          ]
        }
      ]
    },
    {
      "cell_type": "code",
      "source": [
        "df.head()"
      ],
      "metadata": {
        "colab": {
          "base_uri": "https://localhost:8080/",
          "height": 206
        },
        "id": "uIKUxrIAulRV",
        "outputId": "4945d7dc-dc59-468e-92fa-b07e5b5a9f67"
      },
      "execution_count": null,
      "outputs": [
        {
          "output_type": "execute_result",
          "data": {
            "text/plain": [
              "   index       DATE TRADINGCODE  LTP*  HIGH  LOW  OPENP*  CLOSEP*  YCP TRADE  \\\n",
              "0      0 2020-12-01   1JANATAMF   6.1   6.3  6.1     6.2      6.1  6.2   304   \n",
              "1      1 2020-11-30   1JANATAMF   6.2   6.5  6.1     6.5      6.2  6.4   539   \n",
              "2      2 2020-11-29   1JANATAMF   6.4   6.7  6.3     6.5      6.4  6.5   453   \n",
              "3      3 2020-11-26   1JANATAMF   6.5   6.7  6.3     6.5      6.5  6.3   497   \n",
              "4      4 2020-11-25   1JANATAMF   6.3   6.7  6.2     6.7      6.3  6.6   576   \n",
              "\n",
              "   VALUE(mn)     VOLUME  \n",
              "0      9.311  1,503,031  \n",
              "1     16.332  2,617,333  \n",
              "2     19.140  2,953,085  \n",
              "3     22.492  3,467,374  \n",
              "4     26.917  4,201,219  "
            ],
            "text/html": [
              "\n",
              "  <div id=\"df-690b1dca-8b85-476e-a21d-f3a6bce87b9f\">\n",
              "    <div class=\"colab-df-container\">\n",
              "      <div>\n",
              "<style scoped>\n",
              "    .dataframe tbody tr th:only-of-type {\n",
              "        vertical-align: middle;\n",
              "    }\n",
              "\n",
              "    .dataframe tbody tr th {\n",
              "        vertical-align: top;\n",
              "    }\n",
              "\n",
              "    .dataframe thead th {\n",
              "        text-align: right;\n",
              "    }\n",
              "</style>\n",
              "<table border=\"1\" class=\"dataframe\">\n",
              "  <thead>\n",
              "    <tr style=\"text-align: right;\">\n",
              "      <th></th>\n",
              "      <th>index</th>\n",
              "      <th>DATE</th>\n",
              "      <th>TRADINGCODE</th>\n",
              "      <th>LTP*</th>\n",
              "      <th>HIGH</th>\n",
              "      <th>LOW</th>\n",
              "      <th>OPENP*</th>\n",
              "      <th>CLOSEP*</th>\n",
              "      <th>YCP</th>\n",
              "      <th>TRADE</th>\n",
              "      <th>VALUE(mn)</th>\n",
              "      <th>VOLUME</th>\n",
              "    </tr>\n",
              "  </thead>\n",
              "  <tbody>\n",
              "    <tr>\n",
              "      <th>0</th>\n",
              "      <td>0</td>\n",
              "      <td>2020-12-01</td>\n",
              "      <td>1JANATAMF</td>\n",
              "      <td>6.1</td>\n",
              "      <td>6.3</td>\n",
              "      <td>6.1</td>\n",
              "      <td>6.2</td>\n",
              "      <td>6.1</td>\n",
              "      <td>6.2</td>\n",
              "      <td>304</td>\n",
              "      <td>9.311</td>\n",
              "      <td>1,503,031</td>\n",
              "    </tr>\n",
              "    <tr>\n",
              "      <th>1</th>\n",
              "      <td>1</td>\n",
              "      <td>2020-11-30</td>\n",
              "      <td>1JANATAMF</td>\n",
              "      <td>6.2</td>\n",
              "      <td>6.5</td>\n",
              "      <td>6.1</td>\n",
              "      <td>6.5</td>\n",
              "      <td>6.2</td>\n",
              "      <td>6.4</td>\n",
              "      <td>539</td>\n",
              "      <td>16.332</td>\n",
              "      <td>2,617,333</td>\n",
              "    </tr>\n",
              "    <tr>\n",
              "      <th>2</th>\n",
              "      <td>2</td>\n",
              "      <td>2020-11-29</td>\n",
              "      <td>1JANATAMF</td>\n",
              "      <td>6.4</td>\n",
              "      <td>6.7</td>\n",
              "      <td>6.3</td>\n",
              "      <td>6.5</td>\n",
              "      <td>6.4</td>\n",
              "      <td>6.5</td>\n",
              "      <td>453</td>\n",
              "      <td>19.140</td>\n",
              "      <td>2,953,085</td>\n",
              "    </tr>\n",
              "    <tr>\n",
              "      <th>3</th>\n",
              "      <td>3</td>\n",
              "      <td>2020-11-26</td>\n",
              "      <td>1JANATAMF</td>\n",
              "      <td>6.5</td>\n",
              "      <td>6.7</td>\n",
              "      <td>6.3</td>\n",
              "      <td>6.5</td>\n",
              "      <td>6.5</td>\n",
              "      <td>6.3</td>\n",
              "      <td>497</td>\n",
              "      <td>22.492</td>\n",
              "      <td>3,467,374</td>\n",
              "    </tr>\n",
              "    <tr>\n",
              "      <th>4</th>\n",
              "      <td>4</td>\n",
              "      <td>2020-11-25</td>\n",
              "      <td>1JANATAMF</td>\n",
              "      <td>6.3</td>\n",
              "      <td>6.7</td>\n",
              "      <td>6.2</td>\n",
              "      <td>6.7</td>\n",
              "      <td>6.3</td>\n",
              "      <td>6.6</td>\n",
              "      <td>576</td>\n",
              "      <td>26.917</td>\n",
              "      <td>4,201,219</td>\n",
              "    </tr>\n",
              "  </tbody>\n",
              "</table>\n",
              "</div>\n",
              "      <button class=\"colab-df-convert\" onclick=\"convertToInteractive('df-690b1dca-8b85-476e-a21d-f3a6bce87b9f')\"\n",
              "              title=\"Convert this dataframe to an interactive table.\"\n",
              "              style=\"display:none;\">\n",
              "        \n",
              "  <svg xmlns=\"http://www.w3.org/2000/svg\" height=\"24px\"viewBox=\"0 0 24 24\"\n",
              "       width=\"24px\">\n",
              "    <path d=\"M0 0h24v24H0V0z\" fill=\"none\"/>\n",
              "    <path d=\"M18.56 5.44l.94 2.06.94-2.06 2.06-.94-2.06-.94-.94-2.06-.94 2.06-2.06.94zm-11 1L8.5 8.5l.94-2.06 2.06-.94-2.06-.94L8.5 2.5l-.94 2.06-2.06.94zm10 10l.94 2.06.94-2.06 2.06-.94-2.06-.94-.94-2.06-.94 2.06-2.06.94z\"/><path d=\"M17.41 7.96l-1.37-1.37c-.4-.4-.92-.59-1.43-.59-.52 0-1.04.2-1.43.59L10.3 9.45l-7.72 7.72c-.78.78-.78 2.05 0 2.83L4 21.41c.39.39.9.59 1.41.59.51 0 1.02-.2 1.41-.59l7.78-7.78 2.81-2.81c.8-.78.8-2.07 0-2.86zM5.41 20L4 18.59l7.72-7.72 1.47 1.35L5.41 20z\"/>\n",
              "  </svg>\n",
              "      </button>\n",
              "      \n",
              "  <style>\n",
              "    .colab-df-container {\n",
              "      display:flex;\n",
              "      flex-wrap:wrap;\n",
              "      gap: 12px;\n",
              "    }\n",
              "\n",
              "    .colab-df-convert {\n",
              "      background-color: #E8F0FE;\n",
              "      border: none;\n",
              "      border-radius: 50%;\n",
              "      cursor: pointer;\n",
              "      display: none;\n",
              "      fill: #1967D2;\n",
              "      height: 32px;\n",
              "      padding: 0 0 0 0;\n",
              "      width: 32px;\n",
              "    }\n",
              "\n",
              "    .colab-df-convert:hover {\n",
              "      background-color: #E2EBFA;\n",
              "      box-shadow: 0px 1px 2px rgba(60, 64, 67, 0.3), 0px 1px 3px 1px rgba(60, 64, 67, 0.15);\n",
              "      fill: #174EA6;\n",
              "    }\n",
              "\n",
              "    [theme=dark] .colab-df-convert {\n",
              "      background-color: #3B4455;\n",
              "      fill: #D2E3FC;\n",
              "    }\n",
              "\n",
              "    [theme=dark] .colab-df-convert:hover {\n",
              "      background-color: #434B5C;\n",
              "      box-shadow: 0px 1px 3px 1px rgba(0, 0, 0, 0.15);\n",
              "      filter: drop-shadow(0px 1px 2px rgba(0, 0, 0, 0.3));\n",
              "      fill: #FFFFFF;\n",
              "    }\n",
              "  </style>\n",
              "\n",
              "      <script>\n",
              "        const buttonEl =\n",
              "          document.querySelector('#df-690b1dca-8b85-476e-a21d-f3a6bce87b9f button.colab-df-convert');\n",
              "        buttonEl.style.display =\n",
              "          google.colab.kernel.accessAllowed ? 'block' : 'none';\n",
              "\n",
              "        async function convertToInteractive(key) {\n",
              "          const element = document.querySelector('#df-690b1dca-8b85-476e-a21d-f3a6bce87b9f');\n",
              "          const dataTable =\n",
              "            await google.colab.kernel.invokeFunction('convertToInteractive',\n",
              "                                                     [key], {});\n",
              "          if (!dataTable) return;\n",
              "\n",
              "          const docLinkHtml = 'Like what you see? Visit the ' +\n",
              "            '<a target=\"_blank\" href=https://colab.research.google.com/notebooks/data_table.ipynb>data table notebook</a>'\n",
              "            + ' to learn more about interactive tables.';\n",
              "          element.innerHTML = '';\n",
              "          dataTable['output_type'] = 'display_data';\n",
              "          await google.colab.output.renderOutput(dataTable, element);\n",
              "          const docLink = document.createElement('div');\n",
              "          docLink.innerHTML = docLinkHtml;\n",
              "          element.appendChild(docLink);\n",
              "        }\n",
              "      </script>\n",
              "    </div>\n",
              "  </div>\n",
              "  "
            ]
          },
          "metadata": {},
          "execution_count": 7
        }
      ]
    },
    {
      "cell_type": "code",
      "source": [
        "df.shape"
      ],
      "metadata": {
        "colab": {
          "base_uri": "https://localhost:8080/"
        },
        "id": "yDRSX770uz92",
        "outputId": "e0aabad0-8385-4e82-e6d0-3d5e8471edec"
      },
      "execution_count": null,
      "outputs": [
        {
          "output_type": "execute_result",
          "data": {
            "text/plain": [
              "(2771, 12)"
            ]
          },
          "metadata": {},
          "execution_count": 11
        }
      ]
    },
    {
      "cell_type": "code",
      "source": [
        "df.drop('YCP', axis =1, inplace = True)"
      ],
      "metadata": {
        "id": "cHEgor04u6pF"
      },
      "execution_count": null,
      "outputs": []
    },
    {
      "cell_type": "code",
      "source": [
        "df.head()"
      ],
      "metadata": {
        "colab": {
          "base_uri": "https://localhost:8080/",
          "height": 206
        },
        "id": "Ww0Fedw7vjYP",
        "outputId": "55a447df-d0d5-4589-b1c5-fd335ab5b4ed"
      },
      "execution_count": null,
      "outputs": [
        {
          "output_type": "execute_result",
          "data": {
            "text/plain": [
              "   index       DATE TRADINGCODE  LTP*  HIGH  LOW  OPENP*  CLOSEP* TRADE  \\\n",
              "0      0 2020-12-01   1JANATAMF   6.1   6.3  6.1     6.2      6.1   304   \n",
              "1      1 2020-11-30   1JANATAMF   6.2   6.5  6.1     6.5      6.2   539   \n",
              "2      2 2020-11-29   1JANATAMF   6.4   6.7  6.3     6.5      6.4   453   \n",
              "3      3 2020-11-26   1JANATAMF   6.5   6.7  6.3     6.5      6.5   497   \n",
              "4      4 2020-11-25   1JANATAMF   6.3   6.7  6.2     6.7      6.3   576   \n",
              "\n",
              "      VOLUME  \n",
              "0  1,503,031  \n",
              "1  2,617,333  \n",
              "2  2,953,085  \n",
              "3  3,467,374  \n",
              "4  4,201,219  "
            ],
            "text/html": [
              "\n",
              "  <div id=\"df-0350c170-ba55-4f54-853f-615baf7a0abb\">\n",
              "    <div class=\"colab-df-container\">\n",
              "      <div>\n",
              "<style scoped>\n",
              "    .dataframe tbody tr th:only-of-type {\n",
              "        vertical-align: middle;\n",
              "    }\n",
              "\n",
              "    .dataframe tbody tr th {\n",
              "        vertical-align: top;\n",
              "    }\n",
              "\n",
              "    .dataframe thead th {\n",
              "        text-align: right;\n",
              "    }\n",
              "</style>\n",
              "<table border=\"1\" class=\"dataframe\">\n",
              "  <thead>\n",
              "    <tr style=\"text-align: right;\">\n",
              "      <th></th>\n",
              "      <th>index</th>\n",
              "      <th>DATE</th>\n",
              "      <th>TRADINGCODE</th>\n",
              "      <th>LTP*</th>\n",
              "      <th>HIGH</th>\n",
              "      <th>LOW</th>\n",
              "      <th>OPENP*</th>\n",
              "      <th>CLOSEP*</th>\n",
              "      <th>TRADE</th>\n",
              "      <th>VOLUME</th>\n",
              "    </tr>\n",
              "  </thead>\n",
              "  <tbody>\n",
              "    <tr>\n",
              "      <th>0</th>\n",
              "      <td>0</td>\n",
              "      <td>2020-12-01</td>\n",
              "      <td>1JANATAMF</td>\n",
              "      <td>6.1</td>\n",
              "      <td>6.3</td>\n",
              "      <td>6.1</td>\n",
              "      <td>6.2</td>\n",
              "      <td>6.1</td>\n",
              "      <td>304</td>\n",
              "      <td>1,503,031</td>\n",
              "    </tr>\n",
              "    <tr>\n",
              "      <th>1</th>\n",
              "      <td>1</td>\n",
              "      <td>2020-11-30</td>\n",
              "      <td>1JANATAMF</td>\n",
              "      <td>6.2</td>\n",
              "      <td>6.5</td>\n",
              "      <td>6.1</td>\n",
              "      <td>6.5</td>\n",
              "      <td>6.2</td>\n",
              "      <td>539</td>\n",
              "      <td>2,617,333</td>\n",
              "    </tr>\n",
              "    <tr>\n",
              "      <th>2</th>\n",
              "      <td>2</td>\n",
              "      <td>2020-11-29</td>\n",
              "      <td>1JANATAMF</td>\n",
              "      <td>6.4</td>\n",
              "      <td>6.7</td>\n",
              "      <td>6.3</td>\n",
              "      <td>6.5</td>\n",
              "      <td>6.4</td>\n",
              "      <td>453</td>\n",
              "      <td>2,953,085</td>\n",
              "    </tr>\n",
              "    <tr>\n",
              "      <th>3</th>\n",
              "      <td>3</td>\n",
              "      <td>2020-11-26</td>\n",
              "      <td>1JANATAMF</td>\n",
              "      <td>6.5</td>\n",
              "      <td>6.7</td>\n",
              "      <td>6.3</td>\n",
              "      <td>6.5</td>\n",
              "      <td>6.5</td>\n",
              "      <td>497</td>\n",
              "      <td>3,467,374</td>\n",
              "    </tr>\n",
              "    <tr>\n",
              "      <th>4</th>\n",
              "      <td>4</td>\n",
              "      <td>2020-11-25</td>\n",
              "      <td>1JANATAMF</td>\n",
              "      <td>6.3</td>\n",
              "      <td>6.7</td>\n",
              "      <td>6.2</td>\n",
              "      <td>6.7</td>\n",
              "      <td>6.3</td>\n",
              "      <td>576</td>\n",
              "      <td>4,201,219</td>\n",
              "    </tr>\n",
              "  </tbody>\n",
              "</table>\n",
              "</div>\n",
              "      <button class=\"colab-df-convert\" onclick=\"convertToInteractive('df-0350c170-ba55-4f54-853f-615baf7a0abb')\"\n",
              "              title=\"Convert this dataframe to an interactive table.\"\n",
              "              style=\"display:none;\">\n",
              "        \n",
              "  <svg xmlns=\"http://www.w3.org/2000/svg\" height=\"24px\"viewBox=\"0 0 24 24\"\n",
              "       width=\"24px\">\n",
              "    <path d=\"M0 0h24v24H0V0z\" fill=\"none\"/>\n",
              "    <path d=\"M18.56 5.44l.94 2.06.94-2.06 2.06-.94-2.06-.94-.94-2.06-.94 2.06-2.06.94zm-11 1L8.5 8.5l.94-2.06 2.06-.94-2.06-.94L8.5 2.5l-.94 2.06-2.06.94zm10 10l.94 2.06.94-2.06 2.06-.94-2.06-.94-.94-2.06-.94 2.06-2.06.94z\"/><path d=\"M17.41 7.96l-1.37-1.37c-.4-.4-.92-.59-1.43-.59-.52 0-1.04.2-1.43.59L10.3 9.45l-7.72 7.72c-.78.78-.78 2.05 0 2.83L4 21.41c.39.39.9.59 1.41.59.51 0 1.02-.2 1.41-.59l7.78-7.78 2.81-2.81c.8-.78.8-2.07 0-2.86zM5.41 20L4 18.59l7.72-7.72 1.47 1.35L5.41 20z\"/>\n",
              "  </svg>\n",
              "      </button>\n",
              "      \n",
              "  <style>\n",
              "    .colab-df-container {\n",
              "      display:flex;\n",
              "      flex-wrap:wrap;\n",
              "      gap: 12px;\n",
              "    }\n",
              "\n",
              "    .colab-df-convert {\n",
              "      background-color: #E8F0FE;\n",
              "      border: none;\n",
              "      border-radius: 50%;\n",
              "      cursor: pointer;\n",
              "      display: none;\n",
              "      fill: #1967D2;\n",
              "      height: 32px;\n",
              "      padding: 0 0 0 0;\n",
              "      width: 32px;\n",
              "    }\n",
              "\n",
              "    .colab-df-convert:hover {\n",
              "      background-color: #E2EBFA;\n",
              "      box-shadow: 0px 1px 2px rgba(60, 64, 67, 0.3), 0px 1px 3px 1px rgba(60, 64, 67, 0.15);\n",
              "      fill: #174EA6;\n",
              "    }\n",
              "\n",
              "    [theme=dark] .colab-df-convert {\n",
              "      background-color: #3B4455;\n",
              "      fill: #D2E3FC;\n",
              "    }\n",
              "\n",
              "    [theme=dark] .colab-df-convert:hover {\n",
              "      background-color: #434B5C;\n",
              "      box-shadow: 0px 1px 3px 1px rgba(0, 0, 0, 0.15);\n",
              "      filter: drop-shadow(0px 1px 2px rgba(0, 0, 0, 0.3));\n",
              "      fill: #FFFFFF;\n",
              "    }\n",
              "  </style>\n",
              "\n",
              "      <script>\n",
              "        const buttonEl =\n",
              "          document.querySelector('#df-0350c170-ba55-4f54-853f-615baf7a0abb button.colab-df-convert');\n",
              "        buttonEl.style.display =\n",
              "          google.colab.kernel.accessAllowed ? 'block' : 'none';\n",
              "\n",
              "        async function convertToInteractive(key) {\n",
              "          const element = document.querySelector('#df-0350c170-ba55-4f54-853f-615baf7a0abb');\n",
              "          const dataTable =\n",
              "            await google.colab.kernel.invokeFunction('convertToInteractive',\n",
              "                                                     [key], {});\n",
              "          if (!dataTable) return;\n",
              "\n",
              "          const docLinkHtml = 'Like what you see? Visit the ' +\n",
              "            '<a target=\"_blank\" href=https://colab.research.google.com/notebooks/data_table.ipynb>data table notebook</a>'\n",
              "            + ' to learn more about interactive tables.';\n",
              "          element.innerHTML = '';\n",
              "          dataTable['output_type'] = 'display_data';\n",
              "          await google.colab.output.renderOutput(dataTable, element);\n",
              "          const docLink = document.createElement('div');\n",
              "          docLink.innerHTML = docLinkHtml;\n",
              "          element.appendChild(docLink);\n",
              "        }\n",
              "      </script>\n",
              "    </div>\n",
              "  </div>\n",
              "  "
            ]
          },
          "metadata": {},
          "execution_count": 19
        }
      ]
    },
    {
      "cell_type": "code",
      "source": [
        "df.isnull().sum()"
      ],
      "metadata": {
        "colab": {
          "base_uri": "https://localhost:8080/"
        },
        "id": "GfuGQ_jlv6T_",
        "outputId": "18b00dcc-068b-4b8b-bfdc-70649fc06a05"
      },
      "execution_count": null,
      "outputs": [
        {
          "output_type": "execute_result",
          "data": {
            "text/plain": [
              "index          0\n",
              "DATE           0\n",
              "TRADINGCODE    0\n",
              "LTP*           0\n",
              "HIGH           0\n",
              "LOW            0\n",
              "OPENP*         0\n",
              "CLOSEP*        0\n",
              "TRADE          1\n",
              "VOLUME         1\n",
              "dtype: int64"
            ]
          },
          "metadata": {},
          "execution_count": 22
        }
      ]
    },
    {
      "cell_type": "code",
      "source": [
        "df[df['VOLUME'].isnull()]"
      ],
      "metadata": {
        "colab": {
          "base_uri": "https://localhost:8080/",
          "height": 81
        },
        "id": "Jp25THFNwzOE",
        "outputId": "6d49cb36-ccf4-45df-a1c7-3156edad35b0"
      },
      "execution_count": null,
      "outputs": [
        {
          "output_type": "execute_result",
          "data": {
            "text/plain": [
              "      index       DATE TRADINGCODE  LTP*  HIGH  LOW  OPENP*  CLOSEP* TRADE  \\\n",
              "2770   2770 2020-06-21        ACFL   0.0   0.0  0.0     0.0     18.6   NaN   \n",
              "\n",
              "     VOLUME  \n",
              "2770    NaN  "
            ],
            "text/html": [
              "\n",
              "  <div id=\"df-2cdb4c62-fe3a-4ad6-8cd6-55eceb75f3cc\">\n",
              "    <div class=\"colab-df-container\">\n",
              "      <div>\n",
              "<style scoped>\n",
              "    .dataframe tbody tr th:only-of-type {\n",
              "        vertical-align: middle;\n",
              "    }\n",
              "\n",
              "    .dataframe tbody tr th {\n",
              "        vertical-align: top;\n",
              "    }\n",
              "\n",
              "    .dataframe thead th {\n",
              "        text-align: right;\n",
              "    }\n",
              "</style>\n",
              "<table border=\"1\" class=\"dataframe\">\n",
              "  <thead>\n",
              "    <tr style=\"text-align: right;\">\n",
              "      <th></th>\n",
              "      <th>index</th>\n",
              "      <th>DATE</th>\n",
              "      <th>TRADINGCODE</th>\n",
              "      <th>LTP*</th>\n",
              "      <th>HIGH</th>\n",
              "      <th>LOW</th>\n",
              "      <th>OPENP*</th>\n",
              "      <th>CLOSEP*</th>\n",
              "      <th>TRADE</th>\n",
              "      <th>VOLUME</th>\n",
              "    </tr>\n",
              "  </thead>\n",
              "  <tbody>\n",
              "    <tr>\n",
              "      <th>2770</th>\n",
              "      <td>2770</td>\n",
              "      <td>2020-06-21</td>\n",
              "      <td>ACFL</td>\n",
              "      <td>0.0</td>\n",
              "      <td>0.0</td>\n",
              "      <td>0.0</td>\n",
              "      <td>0.0</td>\n",
              "      <td>18.6</td>\n",
              "      <td>NaN</td>\n",
              "      <td>NaN</td>\n",
              "    </tr>\n",
              "  </tbody>\n",
              "</table>\n",
              "</div>\n",
              "      <button class=\"colab-df-convert\" onclick=\"convertToInteractive('df-2cdb4c62-fe3a-4ad6-8cd6-55eceb75f3cc')\"\n",
              "              title=\"Convert this dataframe to an interactive table.\"\n",
              "              style=\"display:none;\">\n",
              "        \n",
              "  <svg xmlns=\"http://www.w3.org/2000/svg\" height=\"24px\"viewBox=\"0 0 24 24\"\n",
              "       width=\"24px\">\n",
              "    <path d=\"M0 0h24v24H0V0z\" fill=\"none\"/>\n",
              "    <path d=\"M18.56 5.44l.94 2.06.94-2.06 2.06-.94-2.06-.94-.94-2.06-.94 2.06-2.06.94zm-11 1L8.5 8.5l.94-2.06 2.06-.94-2.06-.94L8.5 2.5l-.94 2.06-2.06.94zm10 10l.94 2.06.94-2.06 2.06-.94-2.06-.94-.94-2.06-.94 2.06-2.06.94z\"/><path d=\"M17.41 7.96l-1.37-1.37c-.4-.4-.92-.59-1.43-.59-.52 0-1.04.2-1.43.59L10.3 9.45l-7.72 7.72c-.78.78-.78 2.05 0 2.83L4 21.41c.39.39.9.59 1.41.59.51 0 1.02-.2 1.41-.59l7.78-7.78 2.81-2.81c.8-.78.8-2.07 0-2.86zM5.41 20L4 18.59l7.72-7.72 1.47 1.35L5.41 20z\"/>\n",
              "  </svg>\n",
              "      </button>\n",
              "      \n",
              "  <style>\n",
              "    .colab-df-container {\n",
              "      display:flex;\n",
              "      flex-wrap:wrap;\n",
              "      gap: 12px;\n",
              "    }\n",
              "\n",
              "    .colab-df-convert {\n",
              "      background-color: #E8F0FE;\n",
              "      border: none;\n",
              "      border-radius: 50%;\n",
              "      cursor: pointer;\n",
              "      display: none;\n",
              "      fill: #1967D2;\n",
              "      height: 32px;\n",
              "      padding: 0 0 0 0;\n",
              "      width: 32px;\n",
              "    }\n",
              "\n",
              "    .colab-df-convert:hover {\n",
              "      background-color: #E2EBFA;\n",
              "      box-shadow: 0px 1px 2px rgba(60, 64, 67, 0.3), 0px 1px 3px 1px rgba(60, 64, 67, 0.15);\n",
              "      fill: #174EA6;\n",
              "    }\n",
              "\n",
              "    [theme=dark] .colab-df-convert {\n",
              "      background-color: #3B4455;\n",
              "      fill: #D2E3FC;\n",
              "    }\n",
              "\n",
              "    [theme=dark] .colab-df-convert:hover {\n",
              "      background-color: #434B5C;\n",
              "      box-shadow: 0px 1px 3px 1px rgba(0, 0, 0, 0.15);\n",
              "      filter: drop-shadow(0px 1px 2px rgba(0, 0, 0, 0.3));\n",
              "      fill: #FFFFFF;\n",
              "    }\n",
              "  </style>\n",
              "\n",
              "      <script>\n",
              "        const buttonEl =\n",
              "          document.querySelector('#df-2cdb4c62-fe3a-4ad6-8cd6-55eceb75f3cc button.colab-df-convert');\n",
              "        buttonEl.style.display =\n",
              "          google.colab.kernel.accessAllowed ? 'block' : 'none';\n",
              "\n",
              "        async function convertToInteractive(key) {\n",
              "          const element = document.querySelector('#df-2cdb4c62-fe3a-4ad6-8cd6-55eceb75f3cc');\n",
              "          const dataTable =\n",
              "            await google.colab.kernel.invokeFunction('convertToInteractive',\n",
              "                                                     [key], {});\n",
              "          if (!dataTable) return;\n",
              "\n",
              "          const docLinkHtml = 'Like what you see? Visit the ' +\n",
              "            '<a target=\"_blank\" href=https://colab.research.google.com/notebooks/data_table.ipynb>data table notebook</a>'\n",
              "            + ' to learn more about interactive tables.';\n",
              "          element.innerHTML = '';\n",
              "          dataTable['output_type'] = 'display_data';\n",
              "          await google.colab.output.renderOutput(dataTable, element);\n",
              "          const docLink = document.createElement('div');\n",
              "          docLink.innerHTML = docLinkHtml;\n",
              "          element.appendChild(docLink);\n",
              "        }\n",
              "      </script>\n",
              "    </div>\n",
              "  </div>\n",
              "  "
            ]
          },
          "metadata": {},
          "execution_count": 23
        }
      ]
    },
    {
      "cell_type": "code",
      "source": [
        "df.dropna(axis = 0, how = 'any'  ,inplace = True)"
      ],
      "metadata": {
        "id": "wVAGnyE8x3ha"
      },
      "execution_count": null,
      "outputs": []
    },
    {
      "cell_type": "code",
      "source": [
        "df.isnull().sum()"
      ],
      "metadata": {
        "colab": {
          "base_uri": "https://localhost:8080/"
        },
        "id": "9hHC7jfQyUUa",
        "outputId": "e4c57ad0-36a6-495d-9c7c-a9810e217dae"
      },
      "execution_count": null,
      "outputs": [
        {
          "output_type": "execute_result",
          "data": {
            "text/plain": [
              "index          0\n",
              "DATE           0\n",
              "TRADINGCODE    0\n",
              "LTP*           0\n",
              "HIGH           0\n",
              "LOW            0\n",
              "OPENP*         0\n",
              "CLOSEP*        0\n",
              "TRADE          0\n",
              "VOLUME         0\n",
              "dtype: int64"
            ]
          },
          "metadata": {},
          "execution_count": 53
        }
      ]
    },
    {
      "cell_type": "code",
      "source": [
        "df.info()"
      ],
      "metadata": {
        "colab": {
          "base_uri": "https://localhost:8080/"
        },
        "id": "pxrfVDGJyYcF",
        "outputId": "7754e523-3cb1-4953-97cb-505fd44322a0"
      },
      "execution_count": null,
      "outputs": [
        {
          "output_type": "stream",
          "name": "stdout",
          "text": [
            "<class 'pandas.core.frame.DataFrame'>\n",
            "Int64Index: 2770 entries, 0 to 2769\n",
            "Data columns (total 10 columns):\n",
            " #   Column       Non-Null Count  Dtype         \n",
            "---  ------       --------------  -----         \n",
            " 0   index        2770 non-null   int64         \n",
            " 1   DATE         2770 non-null   datetime64[ns]\n",
            " 2   TRADINGCODE  2770 non-null   object        \n",
            " 3   LTP*         2770 non-null   float64       \n",
            " 4   HIGH         2770 non-null   float64       \n",
            " 5   LOW          2770 non-null   float64       \n",
            " 6   OPENP*       2770 non-null   float64       \n",
            " 7   CLOSEP*      2770 non-null   float64       \n",
            " 8   TRADE        2770 non-null   object        \n",
            " 9   VOLUME       2770 non-null   object        \n",
            "dtypes: datetime64[ns](1), float64(5), int64(1), object(3)\n",
            "memory usage: 238.0+ KB\n"
          ]
        }
      ]
    },
    {
      "cell_type": "code",
      "source": [
        "X = df[['OPENP*','HIGH','LOW']]\n",
        "y = df['CLOSEP*']"
      ],
      "metadata": {
        "id": "htJuu8PjykgT"
      },
      "execution_count": null,
      "outputs": []
    },
    {
      "cell_type": "code",
      "source": [
        "from sklearn.model_selection import train_test_split\n",
        "\n",
        "X_train, X_test , y_train , y_test = train_test_split(X, y , random_state= 0)"
      ],
      "metadata": {
        "id": "6YRqSxpWz6wG"
      },
      "execution_count": null,
      "outputs": []
    },
    {
      "cell_type": "code",
      "source": [
        "X_train.shape"
      ],
      "metadata": {
        "colab": {
          "base_uri": "https://localhost:8080/"
        },
        "id": "d-7s5n3r0Y68",
        "outputId": "f7fe3fb6-2e9e-4259-e83c-929d5dcf3cd8"
      },
      "execution_count": null,
      "outputs": [
        {
          "output_type": "execute_result",
          "data": {
            "text/plain": [
              "(2077, 3)"
            ]
          },
          "metadata": {},
          "execution_count": 76
        }
      ]
    },
    {
      "cell_type": "code",
      "source": [
        "X_test.shape"
      ],
      "metadata": {
        "colab": {
          "base_uri": "https://localhost:8080/"
        },
        "id": "xYUsRMYs0rbf",
        "outputId": "a1679866-4b0b-4fa3-cb78-d4f0b8074ee6"
      },
      "execution_count": null,
      "outputs": [
        {
          "output_type": "execute_result",
          "data": {
            "text/plain": [
              "(693, 3)"
            ]
          },
          "metadata": {},
          "execution_count": 77
        }
      ]
    },
    {
      "cell_type": "code",
      "source": [
        "from sklearn.linear_model import LinearRegression\n",
        "from sklearn.metrics import confusion_matrix, accuracy_score\n",
        "\n",
        "model = LinearRegression()"
      ],
      "metadata": {
        "id": "Fl3YRRq80uno"
      },
      "execution_count": null,
      "outputs": []
    },
    {
      "cell_type": "code",
      "source": [
        "model.fit(X_train,y_train)"
      ],
      "metadata": {
        "colab": {
          "base_uri": "https://localhost:8080/"
        },
        "id": "qVq1DC0H2MiF",
        "outputId": "0953ace3-b8bb-4a6d-d185-9b9adb10f1e2"
      },
      "execution_count": null,
      "outputs": [
        {
          "output_type": "execute_result",
          "data": {
            "text/plain": [
              "LinearRegression()"
            ]
          },
          "metadata": {},
          "execution_count": 79
        }
      ]
    },
    {
      "cell_type": "code",
      "source": [
        "predt = model.predict(X_test)"
      ],
      "metadata": {
        "id": "gUbu0rId8kyn"
      },
      "execution_count": null,
      "outputs": []
    },
    {
      "cell_type": "code",
      "source": [
        "print(X_test)"
      ],
      "metadata": {
        "colab": {
          "base_uri": "https://localhost:8080/"
        },
        "id": "nvdMn7G68sAJ",
        "outputId": "7935443b-5fb4-4be7-da3f-745904705c50"
      },
      "execution_count": null,
      "outputs": [
        {
          "output_type": "stream",
          "name": "stdout",
          "text": [
            "      OPENP*  HIGH   LOW\n",
            "1101     0.0   0.0   0.0\n",
            "1086    40.7  42.4  40.0\n",
            "1989     4.0   4.2   4.0\n",
            "332      4.5   4.5   4.5\n",
            "1240    45.6  46.5  45.4\n",
            "...      ...   ...   ...\n",
            "125      4.1   4.1   4.1\n",
            "1093    40.8  42.0  39.2\n",
            "2666    27.0  28.7  27.0\n",
            "1686    24.9  24.9  23.9\n",
            "1959     4.0   4.1   4.0\n",
            "\n",
            "[693 rows x 3 columns]\n"
          ]
        }
      ]
    },
    {
      "cell_type": "code",
      "source": [
        "dframe = pd.DataFrame(y_test,predt)"
      ],
      "metadata": {
        "id": "Bdvxl6U69AJ6"
      },
      "execution_count": null,
      "outputs": []
    },
    {
      "cell_type": "code",
      "source": [
        "dfr = pd.DataFrame({'Actual Price': y_test,'Predicted Price': predt})"
      ],
      "metadata": {
        "id": "lIpVeYNV9dpB"
      },
      "execution_count": null,
      "outputs": []
    },
    {
      "cell_type": "code",
      "source": [
        "print(dfr)"
      ],
      "metadata": {
        "colab": {
          "base_uri": "https://localhost:8080/"
        },
        "id": "5R99OggD-Aqn",
        "outputId": "90537614-d551-43f6-83fc-027249fd4fc2"
      },
      "execution_count": null,
      "outputs": [
        {
          "output_type": "stream",
          "name": "stdout",
          "text": [
            "      Actual Price  Predicted Price\n",
            "1101          41.3         0.488003\n",
            "1086          40.5        40.963386\n",
            "1989           4.1         4.535698\n",
            "332            4.5         4.917709\n",
            "1240          45.6        45.721389\n",
            "...            ...              ...\n",
            "125            4.1         4.523957\n",
            "1093          39.6        40.110905\n",
            "2666          28.6        28.002759\n",
            "1686          24.4        24.248518\n",
            "1959           4.1         4.480609\n",
            "\n",
            "[693 rows x 2 columns]\n"
          ]
        }
      ]
    },
    {
      "cell_type": "code",
      "source": [
        "dfr.head(30)"
      ],
      "metadata": {
        "colab": {
          "base_uri": "https://localhost:8080/",
          "height": 990
        },
        "id": "S9_qq2pd-JoW",
        "outputId": "3c0928b5-8558-45ed-b307-53b8dd2e38d2"
      },
      "execution_count": null,
      "outputs": [
        {
          "output_type": "execute_result",
          "data": {
            "text/plain": [
              "      Actual Price  Predicted Price\n",
              "1101          41.3         0.488003\n",
              "1086          40.5        40.963386\n",
              "1989           4.1         4.535698\n",
              "332            4.5         4.917709\n",
              "1240          45.6        45.721389\n",
              "276            4.4         4.842656\n",
              "2300           7.1         7.457131\n",
              "298            5.2         5.456669\n",
              "70             4.6         5.042955\n",
              "988           33.2        33.169388\n",
              "478           16.8        17.286234\n",
              "2129           4.4         4.744218\n",
              "182            4.3         4.677484\n",
              "1627          25.4        25.383001\n",
              "1259          55.9        55.490313\n",
              "670           14.2        14.354727\n",
              "1280          60.7        59.865034\n",
              "1537          24.0        23.492718\n",
              "1673          25.4        25.049622\n",
              "2178           5.4         5.838776\n",
              "1106          43.0        44.486198\n",
              "2315           7.2         7.445487\n",
              "15             6.7         6.976683\n",
              "2014           4.0         4.472290\n",
              "248            4.1         4.472290\n",
              "1190          55.8        55.528483\n",
              "1664          25.0        25.217830\n",
              "1798           6.0         6.406018\n",
              "938           44.0        43.907818\n",
              "491           16.6        16.815674"
            ],
            "text/html": [
              "\n",
              "  <div id=\"df-0da31230-233a-4e5e-9102-686262031a5f\">\n",
              "    <div class=\"colab-df-container\">\n",
              "      <div>\n",
              "<style scoped>\n",
              "    .dataframe tbody tr th:only-of-type {\n",
              "        vertical-align: middle;\n",
              "    }\n",
              "\n",
              "    .dataframe tbody tr th {\n",
              "        vertical-align: top;\n",
              "    }\n",
              "\n",
              "    .dataframe thead th {\n",
              "        text-align: right;\n",
              "    }\n",
              "</style>\n",
              "<table border=\"1\" class=\"dataframe\">\n",
              "  <thead>\n",
              "    <tr style=\"text-align: right;\">\n",
              "      <th></th>\n",
              "      <th>Actual Price</th>\n",
              "      <th>Predicted Price</th>\n",
              "    </tr>\n",
              "  </thead>\n",
              "  <tbody>\n",
              "    <tr>\n",
              "      <th>1101</th>\n",
              "      <td>41.3</td>\n",
              "      <td>0.488003</td>\n",
              "    </tr>\n",
              "    <tr>\n",
              "      <th>1086</th>\n",
              "      <td>40.5</td>\n",
              "      <td>40.963386</td>\n",
              "    </tr>\n",
              "    <tr>\n",
              "      <th>1989</th>\n",
              "      <td>4.1</td>\n",
              "      <td>4.535698</td>\n",
              "    </tr>\n",
              "    <tr>\n",
              "      <th>332</th>\n",
              "      <td>4.5</td>\n",
              "      <td>4.917709</td>\n",
              "    </tr>\n",
              "    <tr>\n",
              "      <th>1240</th>\n",
              "      <td>45.6</td>\n",
              "      <td>45.721389</td>\n",
              "    </tr>\n",
              "    <tr>\n",
              "      <th>276</th>\n",
              "      <td>4.4</td>\n",
              "      <td>4.842656</td>\n",
              "    </tr>\n",
              "    <tr>\n",
              "      <th>2300</th>\n",
              "      <td>7.1</td>\n",
              "      <td>7.457131</td>\n",
              "    </tr>\n",
              "    <tr>\n",
              "      <th>298</th>\n",
              "      <td>5.2</td>\n",
              "      <td>5.456669</td>\n",
              "    </tr>\n",
              "    <tr>\n",
              "      <th>70</th>\n",
              "      <td>4.6</td>\n",
              "      <td>5.042955</td>\n",
              "    </tr>\n",
              "    <tr>\n",
              "      <th>988</th>\n",
              "      <td>33.2</td>\n",
              "      <td>33.169388</td>\n",
              "    </tr>\n",
              "    <tr>\n",
              "      <th>478</th>\n",
              "      <td>16.8</td>\n",
              "      <td>17.286234</td>\n",
              "    </tr>\n",
              "    <tr>\n",
              "      <th>2129</th>\n",
              "      <td>4.4</td>\n",
              "      <td>4.744218</td>\n",
              "    </tr>\n",
              "    <tr>\n",
              "      <th>182</th>\n",
              "      <td>4.3</td>\n",
              "      <td>4.677484</td>\n",
              "    </tr>\n",
              "    <tr>\n",
              "      <th>1627</th>\n",
              "      <td>25.4</td>\n",
              "      <td>25.383001</td>\n",
              "    </tr>\n",
              "    <tr>\n",
              "      <th>1259</th>\n",
              "      <td>55.9</td>\n",
              "      <td>55.490313</td>\n",
              "    </tr>\n",
              "    <tr>\n",
              "      <th>670</th>\n",
              "      <td>14.2</td>\n",
              "      <td>14.354727</td>\n",
              "    </tr>\n",
              "    <tr>\n",
              "      <th>1280</th>\n",
              "      <td>60.7</td>\n",
              "      <td>59.865034</td>\n",
              "    </tr>\n",
              "    <tr>\n",
              "      <th>1537</th>\n",
              "      <td>24.0</td>\n",
              "      <td>23.492718</td>\n",
              "    </tr>\n",
              "    <tr>\n",
              "      <th>1673</th>\n",
              "      <td>25.4</td>\n",
              "      <td>25.049622</td>\n",
              "    </tr>\n",
              "    <tr>\n",
              "      <th>2178</th>\n",
              "      <td>5.4</td>\n",
              "      <td>5.838776</td>\n",
              "    </tr>\n",
              "    <tr>\n",
              "      <th>1106</th>\n",
              "      <td>43.0</td>\n",
              "      <td>44.486198</td>\n",
              "    </tr>\n",
              "    <tr>\n",
              "      <th>2315</th>\n",
              "      <td>7.2</td>\n",
              "      <td>7.445487</td>\n",
              "    </tr>\n",
              "    <tr>\n",
              "      <th>15</th>\n",
              "      <td>6.7</td>\n",
              "      <td>6.976683</td>\n",
              "    </tr>\n",
              "    <tr>\n",
              "      <th>2014</th>\n",
              "      <td>4.0</td>\n",
              "      <td>4.472290</td>\n",
              "    </tr>\n",
              "    <tr>\n",
              "      <th>248</th>\n",
              "      <td>4.1</td>\n",
              "      <td>4.472290</td>\n",
              "    </tr>\n",
              "    <tr>\n",
              "      <th>1190</th>\n",
              "      <td>55.8</td>\n",
              "      <td>55.528483</td>\n",
              "    </tr>\n",
              "    <tr>\n",
              "      <th>1664</th>\n",
              "      <td>25.0</td>\n",
              "      <td>25.217830</td>\n",
              "    </tr>\n",
              "    <tr>\n",
              "      <th>1798</th>\n",
              "      <td>6.0</td>\n",
              "      <td>6.406018</td>\n",
              "    </tr>\n",
              "    <tr>\n",
              "      <th>938</th>\n",
              "      <td>44.0</td>\n",
              "      <td>43.907818</td>\n",
              "    </tr>\n",
              "    <tr>\n",
              "      <th>491</th>\n",
              "      <td>16.6</td>\n",
              "      <td>16.815674</td>\n",
              "    </tr>\n",
              "  </tbody>\n",
              "</table>\n",
              "</div>\n",
              "      <button class=\"colab-df-convert\" onclick=\"convertToInteractive('df-0da31230-233a-4e5e-9102-686262031a5f')\"\n",
              "              title=\"Convert this dataframe to an interactive table.\"\n",
              "              style=\"display:none;\">\n",
              "        \n",
              "  <svg xmlns=\"http://www.w3.org/2000/svg\" height=\"24px\"viewBox=\"0 0 24 24\"\n",
              "       width=\"24px\">\n",
              "    <path d=\"M0 0h24v24H0V0z\" fill=\"none\"/>\n",
              "    <path d=\"M18.56 5.44l.94 2.06.94-2.06 2.06-.94-2.06-.94-.94-2.06-.94 2.06-2.06.94zm-11 1L8.5 8.5l.94-2.06 2.06-.94-2.06-.94L8.5 2.5l-.94 2.06-2.06.94zm10 10l.94 2.06.94-2.06 2.06-.94-2.06-.94-.94-2.06-.94 2.06-2.06.94z\"/><path d=\"M17.41 7.96l-1.37-1.37c-.4-.4-.92-.59-1.43-.59-.52 0-1.04.2-1.43.59L10.3 9.45l-7.72 7.72c-.78.78-.78 2.05 0 2.83L4 21.41c.39.39.9.59 1.41.59.51 0 1.02-.2 1.41-.59l7.78-7.78 2.81-2.81c.8-.78.8-2.07 0-2.86zM5.41 20L4 18.59l7.72-7.72 1.47 1.35L5.41 20z\"/>\n",
              "  </svg>\n",
              "      </button>\n",
              "      \n",
              "  <style>\n",
              "    .colab-df-container {\n",
              "      display:flex;\n",
              "      flex-wrap:wrap;\n",
              "      gap: 12px;\n",
              "    }\n",
              "\n",
              "    .colab-df-convert {\n",
              "      background-color: #E8F0FE;\n",
              "      border: none;\n",
              "      border-radius: 50%;\n",
              "      cursor: pointer;\n",
              "      display: none;\n",
              "      fill: #1967D2;\n",
              "      height: 32px;\n",
              "      padding: 0 0 0 0;\n",
              "      width: 32px;\n",
              "    }\n",
              "\n",
              "    .colab-df-convert:hover {\n",
              "      background-color: #E2EBFA;\n",
              "      box-shadow: 0px 1px 2px rgba(60, 64, 67, 0.3), 0px 1px 3px 1px rgba(60, 64, 67, 0.15);\n",
              "      fill: #174EA6;\n",
              "    }\n",
              "\n",
              "    [theme=dark] .colab-df-convert {\n",
              "      background-color: #3B4455;\n",
              "      fill: #D2E3FC;\n",
              "    }\n",
              "\n",
              "    [theme=dark] .colab-df-convert:hover {\n",
              "      background-color: #434B5C;\n",
              "      box-shadow: 0px 1px 3px 1px rgba(0, 0, 0, 0.15);\n",
              "      filter: drop-shadow(0px 1px 2px rgba(0, 0, 0, 0.3));\n",
              "      fill: #FFFFFF;\n",
              "    }\n",
              "  </style>\n",
              "\n",
              "      <script>\n",
              "        const buttonEl =\n",
              "          document.querySelector('#df-0da31230-233a-4e5e-9102-686262031a5f button.colab-df-convert');\n",
              "        buttonEl.style.display =\n",
              "          google.colab.kernel.accessAllowed ? 'block' : 'none';\n",
              "\n",
              "        async function convertToInteractive(key) {\n",
              "          const element = document.querySelector('#df-0da31230-233a-4e5e-9102-686262031a5f');\n",
              "          const dataTable =\n",
              "            await google.colab.kernel.invokeFunction('convertToInteractive',\n",
              "                                                     [key], {});\n",
              "          if (!dataTable) return;\n",
              "\n",
              "          const docLinkHtml = 'Like what you see? Visit the ' +\n",
              "            '<a target=\"_blank\" href=https://colab.research.google.com/notebooks/data_table.ipynb>data table notebook</a>'\n",
              "            + ' to learn more about interactive tables.';\n",
              "          element.innerHTML = '';\n",
              "          dataTable['output_type'] = 'display_data';\n",
              "          await google.colab.output.renderOutput(dataTable, element);\n",
              "          const docLink = document.createElement('div');\n",
              "          docLink.innerHTML = docLinkHtml;\n",
              "          element.appendChild(docLink);\n",
              "        }\n",
              "      </script>\n",
              "    </div>\n",
              "  </div>\n",
              "  "
            ]
          },
          "metadata": {},
          "execution_count": 87
        }
      ]
    },
    {
      "cell_type": "code",
      "source": [
        "model.score(X_test,y_test)"
      ],
      "metadata": {
        "colab": {
          "base_uri": "https://localhost:8080/"
        },
        "id": "OKpvMsBd-V6J",
        "outputId": "2503895b-062d-47a3-cf13-8621a10c2d37"
      },
      "execution_count": null,
      "outputs": [
        {
          "output_type": "execute_result",
          "data": {
            "text/plain": [
              "0.9571041675586427"
            ]
          },
          "metadata": {},
          "execution_count": 88
        }
      ]
    },
    {
      "cell_type": "code",
      "source": [
        "graph = dfr.head(30)"
      ],
      "metadata": {
        "id": "70AP7u1F-epQ"
      },
      "execution_count": null,
      "outputs": []
    },
    {
      "cell_type": "code",
      "source": [
        "graph.plot(kind='bar')"
      ],
      "metadata": {
        "colab": {
          "base_uri": "https://localhost:8080/",
          "height": 299
        },
        "id": "qzsHpoDc-tpm",
        "outputId": "df2ef560-9db2-4fa4-eae9-d795818d71d8"
      },
      "execution_count": null,
      "outputs": [
        {
          "output_type": "execute_result",
          "data": {
            "text/plain": [
              "<matplotlib.axes._subplots.AxesSubplot at 0x7f501b39d210>"
            ]
          },
          "metadata": {},
          "execution_count": 90
        },
        {
          "output_type": "display_data",
          "data": {
            "text/plain": [
              "<Figure size 432x288 with 1 Axes>"
            ],
            "image/png": "[encoded data removed]"
          },
          "metadata": {
            "needs_background": "light"
          }
        }
      ]
    },
    {
      "cell_type": "code",
      "source": [
        "from sklearn.preprocessing import PolynomialFeatures\n",
        "poly_regs= PolynomialFeatures(degree= 2) \n",
        "X_poly_train= poly_regs.fit_transform(X_train)\n",
        "X_poly_test= poly_regs.fit_transform(X_test)\n",
        "pr_model = LinearRegression() \n",
        "pr_model.fit(X_poly_train,y_train)"
      ],
      "metadata": {
        "colab": {
          "base_uri": "https://localhost:8080/"
        },
        "id": "hav2KiuX_E5a",
        "outputId": "1c87b83c-9899-4c69-b86c-1aa5e2fae536"
      },
      "execution_count": null,
      "outputs": [
        {
          "output_type": "execute_result",
          "data": {
            "text/plain": [
              "LinearRegression()"
            ]
          },
          "metadata": {},
          "execution_count": 94
        }
      ]
    },
    {
      "cell_type": "code",
      "source": [
        "pr_model.score(X_poly_test,y_test)"
      ],
      "metadata": {
        "colab": {
          "base_uri": "https://localhost:8080/"
        },
        "id": "ISNVxI_fAqBL",
        "outputId": "2fa63bc7-a56c-45b3-88a2-a3e841121b37"
      },
      "execution_count": null,
      "outputs": [
        {
          "output_type": "execute_result",
          "data": {
            "text/plain": [
              "0.958084386504545"
            ]
          },
          "metadata": {},
          "execution_count": 95
        }
      ]
    },
    {
      "cell_type": "code",
      "source": [
        "predt2 = pr_model.predict(X_poly_test)"
      ],
      "metadata": {
        "id": "FvCAcvqjBF28"
      },
      "execution_count": null,
      "outputs": []
    },
    {
      "cell_type": "code",
      "source": [
        "dfr2 = pd.DataFrame({'Actual Price': y_test,'Predicted Price': predt2})"
      ],
      "metadata": {
        "id": "5e5e6GMIBbeT"
      },
      "execution_count": null,
      "outputs": []
    },
    {
      "cell_type": "code",
      "source": [
        "print(dfr2)"
      ],
      "metadata": {
        "colab": {
          "base_uri": "https://localhost:8080/"
        },
        "id": "bpNFJTlcBkGa",
        "outputId": "e83476b5-30dd-4394-a5ba-9d9e6febca12"
      },
      "execution_count": null,
      "outputs": [
        {
          "output_type": "stream",
          "name": "stdout",
          "text": [
            "      Actual Price  Predicted Price\n",
            "1101          41.3         0.965401\n",
            "1086          40.5        41.121596\n",
            "1989           4.1         4.762222\n",
            "332            4.5         5.126609\n",
            "1240          45.6        45.735487\n",
            "...            ...              ...\n",
            "125            4.1         4.755089\n",
            "1093          39.6        40.297498\n",
            "2666          28.6        27.691066\n",
            "1686          24.4        23.882045\n",
            "1959           4.1         4.712732\n",
            "\n",
            "[693 rows x 2 columns]\n"
          ]
        }
      ]
    },
    {
      "cell_type": "code",
      "source": [
        "graph1 = dfr2.head(30)"
      ],
      "metadata": {
        "id": "cfJ3d3xrBolZ"
      },
      "execution_count": null,
      "outputs": []
    },
    {
      "cell_type": "code",
      "source": [
        "graph1.plot(kind = 'bar')"
      ],
      "metadata": {
        "colab": {
          "base_uri": "https://localhost:8080/",
          "height": 299
        },
        "id": "MbQJm_1rBvZL",
        "outputId": "87ba3f90-d85c-4301-e4a2-98fc591b3e27"
      },
      "execution_count": null,
      "outputs": [
        {
          "output_type": "execute_result",
          "data": {
            "text/plain": [
              "<matplotlib.axes._subplots.AxesSubplot at 0x7f50188d31d0>"
            ]
          },
          "metadata": {},
          "execution_count": 106
        },
        {
          "output_type": "display_data",
          "data": {
            "text/plain": [
              "<Figure size 432x288 with 1 Axes>"
            ],
            "image/png": "[encoded data removed]"
          },
          "metadata": {
            "needs_background": "light"
          }
        }
      ]
    }
  ]
}